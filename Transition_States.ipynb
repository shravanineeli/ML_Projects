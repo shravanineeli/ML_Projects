{
  "nbformat": 4,
  "nbformat_minor": 0,
  "metadata": {
    "colab": {
      "provenance": [],
      "authorship_tag": "ABX9TyMPITGsWLVBB2C+dr42DK7D",
      "include_colab_link": true
    },
    "kernelspec": {
      "name": "python3",
      "display_name": "Python 3"
    },
    "language_info": {
      "name": "python"
    }
  },
  "cells": [
    {
      "cell_type": "markdown",
      "metadata": {
        "id": "view-in-github",
        "colab_type": "text"
      },
      "source": [
        "<a href=\"https://colab.research.google.com/github/shravanineeli/ML_Projects/blob/main/Transition_States.ipynb\" target=\"_parent\"><img src=\"https://colab.research.google.com/assets/colab-badge.svg\" alt=\"Open In Colab\"/></a>"
      ]
    },
    {
      "cell_type": "markdown",
      "source": [
        "# Transition Matrix"
      ],
      "metadata": {
        "id": "IQS1QQWvu1rT"
      }
    },
    {
      "cell_type": "markdown",
      "source": [
        "Matrix -\n",
        "\n",
        "    .         Present   Late   Absent\n",
        "    Present    20/27    5/27    2/27\n",
        "    Late       8/21     10/21   3/21\n",
        "    Absent     5/21     1/21    15/21"
      ],
      "metadata": {
        "id": "LU1S0bbgR5yn"
      }
    },
    {
      "cell_type": "code",
      "execution_count": null,
      "metadata": {
        "id": "tiq5Ak1iR1XY",
        "colab": {
          "base_uri": "https://localhost:8080/"
        },
        "outputId": "dc7ccb4a-4faa-4c8f-d7c5-476068fee2bc"
      },
      "outputs": [
        {
          "output_type": "stream",
          "name": "stdout",
          "text": [
            "[[0.74074074 0.18518519 0.07407407]\n",
            " [0.38095238 0.47619048 0.14285714]\n",
            " [0.23809524 0.04761905 0.71428571]]\n"
          ]
        }
      ],
      "source": [
        "#importing libraries\n",
        "import numpy as np\n",
        "\n",
        "#define transition matrix\n",
        "P = np.array([[20/27, 5/27, 2/27], [8/21, 10/21, 3/21], [5/21, 1/21, 15/21]])\n",
        "outcomes = [\"Present\", \"Late\", \"Absent\"]\n",
        "\n",
        "#checking the matrix\n",
        "print(P)"
      ]
    },
    {
      "cell_type": "markdown",
      "source": [
        "# Probabilities"
      ],
      "metadata": {
        "id": "mmB99BE8wOq7"
      }
    },
    {
      "cell_type": "code",
      "source": [
        "#initial state vector\n",
        "initial_state = np.array([1, 0, 0]) #Present\n",
        "\n",
        "#Probabilities of trasitioning from present\n",
        "state_distribution_present = np.dot(initial_state,\n",
        "                                            np.linalg.matrix_power(P, 2))\n",
        "state_distribution_present"
      ],
      "metadata": {
        "colab": {
          "base_uri": "https://localhost:8080/"
        },
        "id": "KndvnfVCwRhl",
        "outputId": "e671c281-beba-4e7e-c4b3-d5c99b6190ea"
      },
      "execution_count": null,
      "outputs": [
        {
          "output_type": "execute_result",
          "data": {
            "text/plain": [
              "array([0.63688027, 0.22888497, 0.13423476])"
            ]
          },
          "metadata": {},
          "execution_count": 2
        }
      ]
    },
    {
      "cell_type": "markdown",
      "source": [
        "The probability of a student being present and then present is 63.69%, present and then late is 22.89%, and lastly, present and then absent is 13.42%."
      ],
      "metadata": {
        "id": "s_4Hj1d6wpIB"
      }
    },
    {
      "cell_type": "code",
      "source": [
        "#initial state vector\n",
        "initial_state = np.array([0, 1, 0]) #Late\n",
        "\n",
        "#Probabilities of transitioning from late\n",
        "state_distribution_late = np.dot(initial_state,\n",
        "                                            np.linalg.matrix_power(P, 2))\n",
        "state_distribution_late"
      ],
      "metadata": {
        "colab": {
          "base_uri": "https://localhost:8080/"
        },
        "id": "tW0WH-v7w19x",
        "outputId": "5d30afff-3cbd-401e-cb95-535e0953fd5f"
      },
      "execution_count": null,
      "outputs": [
        {
          "output_type": "execute_result",
          "data": {
            "text/plain": [
              "array([0.49760645, 0.30410683, 0.19828672])"
            ]
          },
          "metadata": {},
          "execution_count": 3
        }
      ]
    },
    {
      "cell_type": "markdown",
      "source": [
        "The probability of a student being late and then present is 49.76%, late and then late is 30.41%, and lastly, late and then absent is 19.83%."
      ],
      "metadata": {
        "id": "QCCoS_7lxJNV"
      }
    },
    {
      "cell_type": "code",
      "source": [
        "#initial state vector\n",
        "initial_state = np.array([0, 0, 1]) #Absent\n",
        "\n",
        "#Probabilities of transitioning from absent\n",
        "state_distribution_absent = np.dot(initial_state,\n",
        "                                            np.linalg.matrix_power(P, 2))\n",
        "state_distribution_absent"
      ],
      "metadata": {
        "colab": {
          "base_uri": "https://localhost:8080/"
        },
        "id": "RJn2_VaKxRU8",
        "outputId": "a79867ac-a366-4d06-c782-961dbd747c16"
      },
      "execution_count": null,
      "outputs": [
        {
          "output_type": "execute_result",
          "data": {
            "text/plain": [
              "array([0.36457546, 0.10078105, 0.53464349])"
            ]
          },
          "metadata": {},
          "execution_count": 4
        }
      ]
    },
    {
      "cell_type": "markdown",
      "source": [
        "The probability of a student being absent and then present is 36.46%, absent and then late is 10.08%, and lastly, absent and then absent is 53.46%."
      ],
      "metadata": {
        "id": "8J6zN9TqyM72"
      }
    },
    {
      "cell_type": "markdown",
      "source": [
        "# Average Number of Days to Transition from Present to Late"
      ],
      "metadata": {
        "id": "mrbQbIAmvXI-"
      }
    },
    {
      "cell_type": "code",
      "source": [
        "#initial state vector\n",
        "initial_state = np.array([1, 0, 0]) #Present\n",
        "\n",
        "#displaying the initial state\n",
        "print(\"Initial State:\", outcomes[np.argmax(initial_state)])"
      ],
      "metadata": {
        "colab": {
          "base_uri": "https://localhost:8080/"
        },
        "id": "voaG2KPurpJ8",
        "outputId": "a9c74d27-94eb-4dd2-b9f8-1991df5131f9"
      },
      "execution_count": null,
      "outputs": [
        {
          "output_type": "stream",
          "name": "stdout",
          "text": [
            "Initial State: Present\n"
          ]
        }
      ]
    },
    {
      "cell_type": "code",
      "source": [
        "#calculating average number of days for a student to transition from Present to Late\n",
        "day = 1\n",
        "max_days = 27\n",
        "while np.argmax(initial_state) != 1 and day <= max_days:\n",
        "  initial_state = np.dot(initial_state, P)\n",
        "  print(f\"Day {day}: {outcomes[np.argmax(initial_state)]}\")\n",
        "  day += 1"
      ],
      "metadata": {
        "colab": {
          "base_uri": "https://localhost:8080/"
        },
        "id": "FUnNO2dAsER4",
        "outputId": "d76f549e-63eb-48ff-d0d3-c7373a2734ea"
      },
      "execution_count": null,
      "outputs": [
        {
          "output_type": "stream",
          "name": "stdout",
          "text": [
            "Day 1: Present\n",
            "Day 2: Present\n",
            "Day 3: Present\n",
            "Day 4: Present\n",
            "Day 5: Present\n",
            "Day 6: Present\n",
            "Day 7: Present\n",
            "Day 8: Present\n",
            "Day 9: Present\n",
            "Day 10: Present\n",
            "Day 11: Present\n",
            "Day 12: Present\n",
            "Day 13: Present\n",
            "Day 14: Present\n",
            "Day 15: Present\n",
            "Day 16: Present\n",
            "Day 17: Present\n",
            "Day 18: Present\n",
            "Day 19: Present\n",
            "Day 20: Present\n",
            "Day 21: Present\n",
            "Day 22: Present\n",
            "Day 23: Present\n",
            "Day 24: Present\n",
            "Day 25: Present\n",
            "Day 26: Present\n",
            "Day 27: Present\n"
          ]
        }
      ]
    },
    {
      "cell_type": "markdown",
      "source": [
        "If a student is present on Day 1, they are never late."
      ],
      "metadata": {
        "id": "3HtROtosv7Gp"
      }
    },
    {
      "cell_type": "markdown",
      "source": [
        "# Average Number of Days to Transition from Late to Absent"
      ],
      "metadata": {
        "id": "42wDl8MQyn2Q"
      }
    },
    {
      "cell_type": "code",
      "source": [
        "#initial state vector\n",
        "initial_state = np.array([0, 1, 0]) #Late\n",
        "\n",
        "#displaying the initial state\n",
        "print(\"Initial State:\", outcomes[np.argmax(initial_state)])"
      ],
      "metadata": {
        "colab": {
          "base_uri": "https://localhost:8080/"
        },
        "id": "bWsbn4_esgtH",
        "outputId": "9e054200-7460-4af8-9088-ef5b0b50e818"
      },
      "execution_count": null,
      "outputs": [
        {
          "output_type": "stream",
          "name": "stdout",
          "text": [
            "Initial State: Late\n"
          ]
        }
      ]
    },
    {
      "cell_type": "code",
      "source": [
        "#calculating average number of days for a student to transition from Late to Absent\n",
        "day = 1\n",
        "max_days = 21\n",
        "while np.argmax(initial_state) != 2 and day <= max_days:\n",
        "  initial_state = np.dot(initial_state, P)\n",
        "  print(f\"Day {day}: {outcomes[np.argmax(initial_state)]}\")\n",
        "  day += 1"
      ],
      "metadata": {
        "colab": {
          "base_uri": "https://localhost:8080/"
        },
        "id": "mhqh_UUEsk4e",
        "outputId": "b49093de-3b7d-40ca-bd0f-d3da6bf0b97b"
      },
      "execution_count": null,
      "outputs": [
        {
          "output_type": "stream",
          "name": "stdout",
          "text": [
            "Day 1: Late\n",
            "Day 2: Present\n",
            "Day 3: Present\n",
            "Day 4: Present\n",
            "Day 5: Present\n",
            "Day 6: Present\n",
            "Day 7: Present\n",
            "Day 8: Present\n",
            "Day 9: Present\n",
            "Day 10: Present\n",
            "Day 11: Present\n",
            "Day 12: Present\n",
            "Day 13: Present\n",
            "Day 14: Present\n",
            "Day 15: Present\n",
            "Day 16: Present\n",
            "Day 17: Present\n",
            "Day 18: Present\n",
            "Day 19: Present\n",
            "Day 20: Present\n",
            "Day 21: Present\n"
          ]
        }
      ]
    },
    {
      "cell_type": "markdown",
      "source": [
        "It takes a student approximately 1 day to transition from Late to Present."
      ],
      "metadata": {
        "id": "kV3qMrHLy-N7"
      }
    },
    {
      "cell_type": "markdown",
      "source": [
        "# Average Number of Days to Transition from Absent to Present"
      ],
      "metadata": {
        "id": "hTfYdCd2yrvb"
      }
    },
    {
      "cell_type": "code",
      "source": [
        "#initial state vector\n",
        "initial_state = np.array([0, 0, 1]) #Absent\n",
        "\n",
        "#displaying the initial state\n",
        "print(\"Initial State:\", outcomes[np.argmax(initial_state)])"
      ],
      "metadata": {
        "colab": {
          "base_uri": "https://localhost:8080/"
        },
        "id": "Yh5rzko3syuz",
        "outputId": "240a766c-5276-46c4-fd5b-ac80dd8621b3"
      },
      "execution_count": null,
      "outputs": [
        {
          "output_type": "stream",
          "name": "stdout",
          "text": [
            "Initial State: Absent\n"
          ]
        }
      ]
    },
    {
      "cell_type": "code",
      "source": [
        "#calculating average number of days for a student to transition from Absent to Present\n",
        "day = 1\n",
        "max_days = 21\n",
        "while np.argmax(initial_state) != 0 and day <= max_days:\n",
        "  initial_state = np.dot(initial_state, P)\n",
        "  print(f\"Day {day}: {outcomes[np.argmax(initial_state)]}\")\n",
        "  day += 1"
      ],
      "metadata": {
        "colab": {
          "base_uri": "https://localhost:8080/"
        },
        "id": "c40JWX39surp",
        "outputId": "f0425758-b21b-428b-b4c5-6bf8e6f551d0"
      },
      "execution_count": null,
      "outputs": [
        {
          "output_type": "stream",
          "name": "stdout",
          "text": [
            "Day 1: Absent\n",
            "Day 2: Absent\n",
            "Day 3: Present\n"
          ]
        }
      ]
    },
    {
      "cell_type": "markdown",
      "source": [
        "It takes a student approximately 2 day to transition from Absent to Present."
      ],
      "metadata": {
        "id": "hB_R7QmrzTxX"
      }
    },
    {
      "cell_type": "markdown",
      "source": [
        "# Average Number of Days to Transition from Absent to Late"
      ],
      "metadata": {
        "id": "FHKOnDGZtoGA"
      }
    },
    {
      "cell_type": "code",
      "source": [
        "#initial state vector\n",
        "initial_state = np.array([0, 0, 1]) #Absent\n",
        "\n",
        "#displaying the initial state\n",
        "print(\"Initial State:\", outcomes[np.argmax(initial_state)])"
      ],
      "metadata": {
        "colab": {
          "base_uri": "https://localhost:8080/"
        },
        "id": "G4GfyGsWtvL6",
        "outputId": "5e34bec4-2e18-4b3e-bb2c-17eabe96a21f"
      },
      "execution_count": null,
      "outputs": [
        {
          "output_type": "stream",
          "name": "stdout",
          "text": [
            "Initial State: Absent\n"
          ]
        }
      ]
    },
    {
      "cell_type": "code",
      "source": [
        "#calculating average number of days for a student to transition from Absent to Late\n",
        "day = 1\n",
        "max_days = 21\n",
        "while np.argmax(initial_state) != 1 and day <= max_days:\n",
        "  initial_state = np.dot(initial_state, P)\n",
        "  print(f\"Day {day}: {outcomes[np.argmax(initial_state)]}\")\n",
        "  day += 1"
      ],
      "metadata": {
        "colab": {
          "base_uri": "https://localhost:8080/"
        },
        "id": "vgL2O2PKtzhE",
        "outputId": "9d4a1026-bea8-4b85-bfe0-e54a94330c82"
      },
      "execution_count": null,
      "outputs": [
        {
          "output_type": "stream",
          "name": "stdout",
          "text": [
            "Day 1: Absent\n",
            "Day 2: Absent\n",
            "Day 3: Present\n",
            "Day 4: Present\n",
            "Day 5: Present\n",
            "Day 6: Present\n",
            "Day 7: Present\n",
            "Day 8: Present\n",
            "Day 9: Present\n",
            "Day 10: Present\n",
            "Day 11: Present\n",
            "Day 12: Present\n",
            "Day 13: Present\n",
            "Day 14: Present\n",
            "Day 15: Present\n",
            "Day 16: Present\n",
            "Day 17: Present\n",
            "Day 18: Present\n",
            "Day 19: Present\n",
            "Day 20: Present\n",
            "Day 21: Present\n"
          ]
        }
      ]
    },
    {
      "cell_type": "markdown",
      "source": [
        "If a student is absent on the first day, they are never late."
      ],
      "metadata": {
        "id": "gzWKLoIdt3QS"
      }
    }
  ]
}