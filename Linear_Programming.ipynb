{
  "nbformat": 4,
  "nbformat_minor": 0,
  "metadata": {
    "colab": {
      "provenance": [],
      "include_colab_link": true
    },
    "kernelspec": {
      "name": "python3",
      "display_name": "Python 3"
    },
    "language_info": {
      "name": "python"
    }
  },
  "cells": [
    {
      "cell_type": "markdown",
      "metadata": {
        "id": "view-in-github",
        "colab_type": "text"
      },
      "source": [
        "<a href=\"https://colab.research.google.com/github/shravanineeli/ML_Projects/blob/main/Linear_Programming.ipynb\" target=\"_parent\"><img src=\"https://colab.research.google.com/assets/colab-badge.svg\" alt=\"Open In Colab\"/></a>"
      ]
    },
    {
      "cell_type": "markdown",
      "source": [
        "# Starter Code"
      ],
      "metadata": {
        "id": "KvWrbaqmg0RO"
      }
    },
    {
      "cell_type": "code",
      "source": [
        "# Import necessary libraries\n",
        "%matplotlib inline\n",
        "from pylab import *\n",
        "import shutil\n",
        "import sys\n",
        "import os.path\n",
        "\n",
        "# Install Pyomo if not already installed\n",
        "if not shutil.which(\"pyomo\"):\n",
        "    !pip install -q pyomo\n",
        "assert(shutil.which(\"pyomo\"))\n",
        "\n",
        "# Check and install GLPK or IPOPT depending on the environment\n",
        "if not (shutil.which(\"glpsol\") or os.path.isfile(\"glpsol\")):\n",
        "    if \"google.colab\" in sys.modules:\n",
        "        !apt-get install -y -qq glpk-utils\n",
        "    else:\n",
        "        try:\n",
        "            !conda install -c conda-forge ipopt\n",
        "        except:\n",
        "            pass\n",
        "\n",
        "assert(shutil.which(\"glpsol\") or os.path.isfile(\"glpsol\"))\n",
        "\n",
        "# Import Pyomo and set solver\n",
        "from pyomo.environ import *\n",
        "SOLVER = 'glpk'\n",
        "EXECUTABLE = '/usr/bin/glpsol'"
      ],
      "metadata": {
        "colab": {
          "base_uri": "https://localhost:8080/"
        },
        "id": "Bcj_S52YgOnP",
        "outputId": "75d7e280-dbc3-4c12-f8a7-8274cefa17b2"
      },
      "execution_count": null,
      "outputs": [
        {
          "output_type": "stream",
          "name": "stdout",
          "text": [
            "\u001b[2K   \u001b[90m━━━━━━━━━━━━━━━━━━━━━━━━━━━━━━━━━━━━━━━━\u001b[0m \u001b[32m12.8/12.8 MB\u001b[0m \u001b[31m22.7 MB/s\u001b[0m eta \u001b[36m0:00:00\u001b[0m\n",
            "\u001b[2K   \u001b[90m━━━━━━━━━━━━━━━━━━━━━━━━━━━━━━━━━━━━━━━━\u001b[0m \u001b[32m49.6/49.6 kB\u001b[0m \u001b[31m1.9 MB/s\u001b[0m eta \u001b[36m0:00:00\u001b[0m\n",
            "\u001b[?25hSelecting previously unselected package libsuitesparseconfig5:amd64.\n",
            "(Reading database ... 123598 files and directories currently installed.)\n",
            "Preparing to unpack .../libsuitesparseconfig5_1%3a5.10.1+dfsg-4build1_amd64.deb ...\n",
            "Unpacking libsuitesparseconfig5:amd64 (1:5.10.1+dfsg-4build1) ...\n",
            "Selecting previously unselected package libamd2:amd64.\n",
            "Preparing to unpack .../libamd2_1%3a5.10.1+dfsg-4build1_amd64.deb ...\n",
            "Unpacking libamd2:amd64 (1:5.10.1+dfsg-4build1) ...\n",
            "Selecting previously unselected package libcolamd2:amd64.\n",
            "Preparing to unpack .../libcolamd2_1%3a5.10.1+dfsg-4build1_amd64.deb ...\n",
            "Unpacking libcolamd2:amd64 (1:5.10.1+dfsg-4build1) ...\n",
            "Selecting previously unselected package libglpk40:amd64.\n",
            "Preparing to unpack .../libglpk40_5.0-1_amd64.deb ...\n",
            "Unpacking libglpk40:amd64 (5.0-1) ...\n",
            "Selecting previously unselected package glpk-utils.\n",
            "Preparing to unpack .../glpk-utils_5.0-1_amd64.deb ...\n",
            "Unpacking glpk-utils (5.0-1) ...\n",
            "Setting up libsuitesparseconfig5:amd64 (1:5.10.1+dfsg-4build1) ...\n",
            "Setting up libamd2:amd64 (1:5.10.1+dfsg-4build1) ...\n",
            "Setting up libcolamd2:amd64 (1:5.10.1+dfsg-4build1) ...\n",
            "Setting up libglpk40:amd64 (5.0-1) ...\n",
            "Setting up glpk-utils (5.0-1) ...\n",
            "Processing triggers for man-db (2.10.2-1) ...\n",
            "Processing triggers for libc-bin (2.35-0ubuntu3.4) ...\n",
            "/sbin/ldconfig.real: /usr/local/lib/libtbbmalloc_proxy.so.2 is not a symbolic link\n",
            "\n",
            "/sbin/ldconfig.real: /usr/local/lib/libtbbbind_2_5.so.3 is not a symbolic link\n",
            "\n",
            "/sbin/ldconfig.real: /usr/local/lib/libur_adapter_level_zero.so.0 is not a symbolic link\n",
            "\n",
            "/sbin/ldconfig.real: /usr/local/lib/libur_loader.so.0 is not a symbolic link\n",
            "\n",
            "/sbin/ldconfig.real: /usr/local/lib/libtbbbind.so.3 is not a symbolic link\n",
            "\n",
            "/sbin/ldconfig.real: /usr/local/lib/libtbbbind_2_0.so.3 is not a symbolic link\n",
            "\n",
            "/sbin/ldconfig.real: /usr/local/lib/libtbbmalloc.so.2 is not a symbolic link\n",
            "\n",
            "/sbin/ldconfig.real: /usr/local/lib/libtbb.so.12 is not a symbolic link\n",
            "\n",
            "/sbin/ldconfig.real: /usr/local/lib/libur_adapter_opencl.so.0 is not a symbolic link\n",
            "\n"
          ]
        }
      ]
    },
    {
      "cell_type": "code",
      "source": [
        "model = ConcreteModel()"
      ],
      "metadata": {
        "id": "bfUWJHMgeeek"
      },
      "execution_count": null,
      "outputs": []
    },
    {
      "cell_type": "markdown",
      "source": [
        "# Decision Variables"
      ],
      "metadata": {
        "id": "BOlZFYJNakLI"
      }
    },
    {
      "cell_type": "markdown",
      "source": [
        "1. Grain A\n",
        "\n",
        "2. Grain B\n",
        "\n",
        "3. Grain C"
      ],
      "metadata": {
        "id": "feHuYRgVem42"
      }
    },
    {
      "cell_type": "code",
      "execution_count": null,
      "metadata": {
        "id": "QG9lqEJ_acCf"
      },
      "outputs": [],
      "source": [
        "model.A = Var(domain = NonNegativeReals, bounds = (0, None))\n",
        "model.B = Var(domain = NonNegativeReals, bounds = (0, None))\n",
        "model.C = Var(domain = NonNegativeReals, bounds = (0, None))"
      ]
    },
    {
      "cell_type": "markdown",
      "source": [
        "# Constraints"
      ],
      "metadata": {
        "id": "Mya1mM9CejWL"
      }
    },
    {
      "cell_type": "markdown",
      "source": [
        "1. 20A + 30B + 70C >= 110\n",
        "\n",
        "2. 10A + 10B + 0C >= 18\n",
        "\n",
        "3. 50A + 30B + 0C >= 90\n",
        "\n",
        "4. 6A + 2.5B + 10C >= 14"
      ],
      "metadata": {
        "id": "qJcyXCDQen2f"
      }
    },
    {
      "cell_type": "code",
      "source": [
        "model.nutrienta = Constraint(expr = 20*model.A + 30*model.B + 70*model.C >= 110)\n",
        "model.nutrientb = Constraint(expr = 10*model.A + 10*model.B + 0*model.C >= 18)\n",
        "model.nutrientc = Constraint(expr = 50*model.A + 30*model.B + 0*model.C >= 90)\n",
        "model.nutrientd = Constraint(expr = 6*model.A + 2.5*model.B + 10*model.C >= 14)"
      ],
      "metadata": {
        "id": "3APMacAWfMHp"
      },
      "execution_count": null,
      "outputs": []
    },
    {
      "cell_type": "markdown",
      "source": [
        "# Objective Function"
      ],
      "metadata": {
        "id": "f3GFJBO_fpS3"
      }
    },
    {
      "cell_type": "markdown",
      "source": [
        "MIN (41A + 36B + 96C)"
      ],
      "metadata": {
        "id": "QpmewCuAfrW_"
      }
    },
    {
      "cell_type": "code",
      "source": [
        "model.Cost = Objective(expr = 41*model.A + 36*model.B + 96*model.C, sense = minimize)"
      ],
      "metadata": {
        "id": "lfhpkzYAfwin"
      },
      "execution_count": null,
      "outputs": []
    },
    {
      "cell_type": "markdown",
      "source": [
        "# Solution"
      ],
      "metadata": {
        "id": "kmNtPLHzf3wP"
      }
    },
    {
      "cell_type": "code",
      "source": [
        "SolverFactory(SOLVER,executable=EXECUTABLE).solve(model).write()\n",
        "print(\"Cost = \", model.Cost())\n",
        "print(\"Variables:\")\n",
        "print(\"\\tGrain 1 = \", model.A(), \" units\")\n",
        "print(\"\\tGrain 2 = \", model.B(), \" units\")\n",
        "print(\"\\tGrain 3 = \", model.C(), \" units\")\n",
        "print(\"Constraints (LHS values):\")\n",
        "print(\"\\tNutrient A = \", model.nutrienta(), \" units\")\n",
        "print(\"\\tNutrient B = \", model.nutrientb(), \" units\")\n",
        "print(\"\\tNutrient C = \", model.nutrientc(), \" units\")\n",
        "print(\"\\tNutrient D = \", model.nutrientd(), \" units\")"
      ],
      "metadata": {
        "colab": {
          "base_uri": "https://localhost:8080/"
        },
        "id": "6Jg2l6TTf5ey",
        "outputId": "e28750bf-07a3-4596-db24-7b48ebc19701"
      },
      "execution_count": null,
      "outputs": [
        {
          "output_type": "stream",
          "name": "stdout",
          "text": [
            "# ==========================================================\n",
            "# = Solver Results                                         =\n",
            "# ==========================================================\n",
            "# ----------------------------------------------------------\n",
            "#   Problem Information\n",
            "# ----------------------------------------------------------\n",
            "Problem: \n",
            "- Name: unknown\n",
            "  Lower bound: 148.610894941634\n",
            "  Upper bound: 148.610894941634\n",
            "  Number of objectives: 1\n",
            "  Number of constraints: 4\n",
            "  Number of variables: 3\n",
            "  Number of nonzeros: 10\n",
            "  Sense: minimize\n",
            "# ----------------------------------------------------------\n",
            "#   Solver Information\n",
            "# ----------------------------------------------------------\n",
            "Solver: \n",
            "- Status: ok\n",
            "  Termination condition: optimal\n",
            "  Statistics: \n",
            "    Branch and bound: \n",
            "      Number of bounded subproblems: 0\n",
            "      Number of created subproblems: 0\n",
            "  Error rc: 0\n",
            "  Time: 0.004026174545288086\n",
            "# ----------------------------------------------------------\n",
            "#   Solution Information\n",
            "# ----------------------------------------------------------\n",
            "Solution: \n",
            "- number of solutions: 0\n",
            "  number of solutions displayed: 0\n",
            "Cost =  148.61089494163406\n",
            "Variables:\n",
            "\tGrain 1 =  0.595330739299611  units\n",
            "\tGrain 2 =  2.00778210116731  units\n",
            "\tGrain 3 =  0.540856031128405  units\n",
            "Constraints (LHS values):\n",
            "\tNutrient A =  109.99999999999986  units\n",
            "\tNutrient B =  26.031128404669207  units\n",
            "\tNutrient C =  89.99999999999984  units\n",
            "\tNutrient D =  13.99999999999999  units\n"
          ]
        }
      ]
    },
    {
      "cell_type": "markdown",
      "source": [
        "# Sensitivity Analysis Report"
      ],
      "metadata": {
        "id": "bgr3ydH_gSU2"
      }
    },
    {
      "cell_type": "code",
      "source": [
        "# First, we will save the model (you will see the file model.lp showing up on the left after executing the line below)\n",
        "model.write(\"/content/model.lp\", io_options={'symbolic_solver_labels': True})\n",
        "\n",
        "# After running the line below, we will generate the file \"sensit.sen\", which contains the report we want to see\n",
        "!/usr/bin/glpsol -m /content/model.lp --lp --ranges sensit.sen\n",
        "\n",
        "# Display report\n",
        "!cat /content/sensit.sen"
      ],
      "metadata": {
        "colab": {
          "base_uri": "https://localhost:8080/"
        },
        "id": "bK4WDOFYghel",
        "outputId": "e84db4c0-d502-48d4-91c7-11a6bcdfbc03"
      },
      "execution_count": null,
      "outputs": [
        {
          "output_type": "stream",
          "name": "stdout",
          "text": [
            "GLPSOL--GLPK LP/MIP Solver 5.0\n",
            "Parameter(s) specified in the command line:\n",
            " -m /content/model.lp --lp --ranges sensit.sen\n",
            "Reading problem data from '/content/model.lp'...\n",
            "4 rows, 3 columns, 10 non-zeros\n",
            "37 lines were read\n",
            "GLPK Simplex Optimizer 5.0\n",
            "4 rows, 3 columns, 10 non-zeros\n",
            "Preprocessing...\n",
            "4 rows, 3 columns, 10 non-zeros\n",
            "Scaling...\n",
            " A: min|aij| =  2.500e+00  max|aij| =  7.000e+01  ratio =  2.800e+01\n",
            "GM: min|aij| =  7.260e-01  max|aij| =  1.377e+00  ratio =  1.897e+00\n",
            "EQ: min|aij| =  5.270e-01  max|aij| =  1.000e+00  ratio =  1.897e+00\n",
            "Constructing initial basis...\n",
            "Size of triangular part is 4\n",
            "      0: obj =   0.000000000e+00 inf =   7.288e+00 (4)\n",
            "      3: obj =   1.752857143e+02 inf =   0.000e+00 (0)\n",
            "*     4: obj =   1.486108949e+02 inf =   0.000e+00 (0)\n",
            "OPTIMAL LP SOLUTION FOUND\n",
            "Time used:   0.0 secs\n",
            "Memory used: 0.0 Mb (39693 bytes)\n",
            "Write sensitivity analysis report to 'sensit.sen'...\n",
            "GLPK 5.0  - SENSITIVITY ANALYSIS REPORT                                                                         Page   1\n",
            "\n",
            "Problem:    \n",
            "Objective:  Cost = 148.6108949 (MINimum)\n",
            "\n",
            "   No. Row name     St      Activity         Slack   Lower bound       Activity      Obj coef  Obj value at Limiting\n",
            "                                          Marginal   Upper bound          range         range   break point variable\n",
            "------ ------------ -- ------------- ------------- -------------  ------------- ------------- ------------- ------------\n",
            "     1 c_l_nutrienta_\n",
            "                    NL     110.00000        .          110.00000       58.40000       -.85447     104.52000 c_l_nutrientb_\n",
            "                                            .85447          +Inf      135.50000          +Inf     170.40000 A\n",
            "\n",
            "     2 c_l_nutrientb_\n",
            "                    BS      26.03113      -8.03113      18.00000       40.38462       -.16377     144.34783 c_l_nutrientc_\n",
            "                                            .               +Inf       18.00000       3.32143     235.07143 c_l_nutrientd_\n",
            "\n",
            "     3 c_l_nutrientc_\n",
            "                    NL      90.00000        .           90.00000       60.08696       -.04397     147.29565 c_l_nutrientb_\n",
            "                                            .04397          +Inf      143.46154          +Inf     150.96154 C\n",
            "\n",
            "     4 c_l_nutrientd_\n",
            "                    NL      14.00000        .           14.00000       10.35714      -3.61868     135.42857 A\n",
            "                                           3.61868          +Inf       21.37143          +Inf     175.28571 c_l_nutrientb_\n",
            "\n",
            "GLPK 5.0  - SENSITIVITY ANALYSIS REPORT                                                                         Page   2\n",
            "\n",
            "Problem:    \n",
            "Objective:  Cost = 148.6108949 (MINimum)\n",
            "\n",
            "   No. Column name  St      Activity      Obj coef   Lower bound       Activity      Obj coef  Obj value at Limiting\n",
            "                                          Marginal   Upper bound          range         range   break point variable\n",
            "------ ------------ -- ------------- ------------- -------------  ------------- ------------- ------------- ------------\n",
            "     1 A            BS        .59533      41.00000        .             1.11538      36.48000     145.92000 c_l_nutrientc_\n",
            "                                            .               +Inf           -Inf      77.60000     170.40000 c_l_nutrienta_\n",
            "\n",
            "     2 B            BS       2.00778      36.00000        .             2.92308      33.43182     143.45455 c_l_nutrientc_\n",
            "                                            .               +Inf         .           49.28571     175.28571 c_l_nutrientd_\n",
            "\n",
            "     3 C            BS        .54086      96.00000        .             1.05714      44.33333     120.66667 c_l_nutrientd_\n",
            "                                            .               +Inf           -Inf     100.34615     150.96154 c_l_nutrientc_\n",
            "\n",
            "End of report\n"
          ]
        }
      ]
    },
    {
      "cell_type": "markdown",
      "source": [
        "# Interpretation of Results"
      ],
      "metadata": {
        "id": "G3FEnnYJbF7K"
      }
    },
    {
      "cell_type": "markdown",
      "source": [
        "- The binding constraint identified is Nutrient B as it stops Nutrient A, Nutrient C, and Nutrient D from producing more."
      ],
      "metadata": {
        "id": "W-02Nxu-bUUK"
      }
    }
  ]
}